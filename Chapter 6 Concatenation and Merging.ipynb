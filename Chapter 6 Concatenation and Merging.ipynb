{
 "cells": [
  {
   "cell_type": "markdown",
   "id": "00b09832",
   "metadata": {},
   "source": [
    "# Chapter 6 Concatenation and Merging"
   ]
  },
  {
   "cell_type": "markdown",
   "id": "81ae347a",
   "metadata": {},
   "source": [
    "## Concatenation\n",
    "\n",
    "Often the data we need exists in two or more separate sources, fortunately, Pandas makes it easy to combine these together. The simplest combination is if all the sources are already in the same format, then a concatenation through the **Pandas.concat()** call is all that is needed.\n",
    "\n",
    "Ex: pd.concat([df1, df2, ..., dfN])"
   ]
  },
  {
   "cell_type": "markdown",
   "id": "5bb269c9",
   "metadata": {},
   "source": [
    "## Concatenation of Series"
   ]
  },
  {
   "cell_type": "markdown",
   "id": "e9fa33c9",
   "metadata": {},
   "source": [
    "### Concatenation of Series by rows (One below another) - Default"
   ]
  },
  {
   "cell_type": "code",
   "execution_count": null,
   "id": "408f9d2a",
   "metadata": {},
   "outputs": [],
   "source": [
    "import pandas as pd\n",
    "\n",
    "# Create series s1\n",
    "s1 = pd.Series(['1', '2', '3'])\n",
    "\n",
    "# Create series s2\n",
    "s2 = pd.Series(['4', '5', '6'])"
   ]
  },
  {
   "cell_type": "code",
   "execution_count": null,
   "id": "5e857812",
   "metadata": {},
   "outputs": [],
   "source": [
    "# Print series s1\n",
    "s1"
   ]
  },
  {
   "cell_type": "code",
   "execution_count": null,
   "id": "ba08e782",
   "metadata": {},
   "outputs": [],
   "source": [
    "# Print series s2\n",
    "s2"
   ]
  },
  {
   "cell_type": "code",
   "execution_count": null,
   "id": "9901171d",
   "metadata": {},
   "outputs": [],
   "source": [
    "# Concat both the series by rows (s2 after s1)\n",
    "pd.concat([s1, s2], keys=[\"s1\",\"s2\"])\n",
    "\n",
    "# Returns a new series with records of s2 after records of s1\n",
    "# The indexes are preserved for both the series s1 (0, 1, 2) and s2 (0, 1, 2)\n",
    "# Can create group labels using keys"
   ]
  },
  {
   "cell_type": "code",
   "execution_count": null,
   "id": "636060fd",
   "metadata": {},
   "outputs": [],
   "source": [
    "# Concat both the series by rows (s2 after s1)\n",
    "pd.concat([s1, s2], ignore_index=True)\n",
    "\n",
    "# Returns a new series with records of s2 after records of s1\n",
    "# The indexes are preserved for the series s1 (0, 1, 2) and new indexes created for s2 (3, 4, 5)\n",
    "# Since indexes are ignored, we cannot create group labels"
   ]
  },
  {
   "cell_type": "code",
   "execution_count": null,
   "id": "50a68fc3",
   "metadata": {},
   "outputs": [],
   "source": [
    "# Concat both the series by rows (s1 after s2)\n",
    "pd.concat([s2, s1], keys=[\"s2\",\"s1\"])\n",
    "\n",
    "# Returns a new series with records of s1 after records of s2\n",
    "# The indexes are preserved for both the series s2 (0, 1, 2) and s1 (0, 1, 2)\n",
    "# Can create group labels using keys"
   ]
  },
  {
   "cell_type": "code",
   "execution_count": null,
   "id": "5b937f51",
   "metadata": {},
   "outputs": [],
   "source": [
    "# Concat both the series by rows (s1 after s2)\n",
    "pd.concat([s2, s1], ignore_index=True)\n",
    "\n",
    "# Returns a new series with records of s1 after records of s2\n",
    "# The indexes are preserved for the series s2 (0, 1, 2) and new indexes created for s1 (3, 4, 5)\n",
    "# Since indexes are ignored, we cannot create group labels"
   ]
  },
  {
   "cell_type": "markdown",
   "id": "945f32fb",
   "metadata": {},
   "source": [
    "### Concatenation of Series by columns/indexes (One adjacent to another)"
   ]
  },
  {
   "cell_type": "code",
   "execution_count": null,
   "id": "122e1376",
   "metadata": {},
   "outputs": [],
   "source": [
    "# Create series c1\n",
    "c1 = pd.Series(['red', 'orange', 'yellow'])\n",
    "\n",
    "# Create series c2\n",
    "c2 = pd.Series(['green', 'blue', 'purple'])"
   ]
  },
  {
   "cell_type": "code",
   "execution_count": null,
   "id": "e9f5d912",
   "metadata": {},
   "outputs": [],
   "source": [
    "# Print series c1\n",
    "c1"
   ]
  },
  {
   "cell_type": "code",
   "execution_count": null,
   "id": "2a945354",
   "metadata": {},
   "outputs": [],
   "source": [
    "# Print series c2\n",
    "c2"
   ]
  },
  {
   "cell_type": "code",
   "execution_count": null,
   "id": "6680c291",
   "metadata": {},
   "outputs": [],
   "source": [
    "# Concat both the series by columns\n",
    "pd.concat([c1,c2], axis=1)\n",
    " \n",
    "# Returns a dataframe with records of c1 then c2, adjacent to each other"
   ]
  },
  {
   "cell_type": "code",
   "execution_count": null,
   "id": "c58ed080",
   "metadata": {},
   "outputs": [],
   "source": [
    "# Concat both the series by columns\n",
    "pd.concat([c2,c1], axis=1)\n",
    "\n",
    "# Returns a dataframe with records of c2 then c1, adjacent to each other"
   ]
  },
  {
   "cell_type": "markdown",
   "id": "b7b7e79b",
   "metadata": {},
   "source": [
    "### Outer vs. Inner Concatenation of Series"
   ]
  },
  {
   "cell_type": "code",
   "execution_count": null,
   "id": "bc21eaab",
   "metadata": {},
   "outputs": [],
   "source": [
    "# Create series with different indexes to understand the working of Concatenation by columns in detail\n",
    "animals = pd.Series(\n",
    "    data=[\"badger\", \"cougar\", \"anaconda\", \"elk\", \"pika\"],\n",
    "    index=[\"b\", \"c\", \"a\", \"e\", \"p\"] \n",
    ")\n",
    "\n",
    "fruits = pd.Series(\n",
    "    data=[\"apple\", \"banana\", \"cherry\", \"durian\"],\n",
    "    index=[\"a\", \"b\", \"c\", \"d\"]\n",
    ")"
   ]
  },
  {
   "cell_type": "code",
   "execution_count": null,
   "id": "0cdf8c38",
   "metadata": {},
   "outputs": [],
   "source": [
    "# Print animals series\n",
    "animals"
   ]
  },
  {
   "cell_type": "code",
   "execution_count": null,
   "id": "a3f1bcfa",
   "metadata": {},
   "outputs": [],
   "source": [
    "# Print fruits series\n",
    "fruits"
   ]
  },
  {
   "cell_type": "code",
   "execution_count": null,
   "id": "7d615667",
   "metadata": {},
   "outputs": [],
   "source": [
    "# Concat both the series by columns - Outer Concatenation (default)\n",
    "pd.concat([animals,fruits], axis=1, keys=[\"animals\", \"fruits\"])\n",
    "\n",
    "# Returns a dataframe with records of animals then fruits, adjacent to each other\n",
    "# Concatenated by index, and the indexes of animals (first dataframe) are preserved\n",
    "# If any record with corresponding index is missing, it is replaced by NaN\n",
    "# We can set the column names using keys"
   ]
  },
  {
   "cell_type": "code",
   "execution_count": null,
   "id": "91b25eda",
   "metadata": {},
   "outputs": [],
   "source": [
    "# Concat both the series by columns - Inner Concatenation\n",
    "pd.concat([animals,fruits], axis=1, keys=[\"animals\", \"fruits\"], join=\"inner\")\n",
    "\n",
    "# Returns a dataframe with records of animals then fruits, adjacent to each other\n",
    "# Concatenated by index, and the indexes of animals (first dataframe) are preserved\n",
    "# If any record with corresponding index is missing, it is omitted\n",
    "# We can set the column names using keys"
   ]
  },
  {
   "cell_type": "code",
   "execution_count": null,
   "id": "d6376853",
   "metadata": {},
   "outputs": [],
   "source": [
    "# Concat both the series by columns - Outer Concatenation (default)\n",
    "pd.concat([fruits,animals], axis=1, keys=[\"fruits\",\"animals\"])\n",
    "\n",
    "# Returns a dataframe with records of fruits then animals, adjacent to each other\n",
    "# Concatenated by index, and the indexes of fruits (first dataframe) are preserved\n",
    "# If any record with corresponding index is missing, it is replaced by NaN\n",
    "# We can set the column names using keys"
   ]
  },
  {
   "cell_type": "code",
   "execution_count": null,
   "id": "9ed36e11",
   "metadata": {},
   "outputs": [],
   "source": [
    "# Concat both the series by columns - Inner Concatenation\n",
    "pd.concat([fruits,animals], axis=1, keys=[\"fruits\",\"animals\"], join=\"inner\")\n",
    "\n",
    "# Returns a dataframe with records of fruits then animals, adjacent to each other\n",
    "# Concatenated by index, and the indexes of fruits (first dataframe) are preserved\n",
    "# If any record with corresponding index is missing, it is omitted\n",
    "# We can set the column names using keys"
   ]
  },
  {
   "cell_type": "markdown",
   "id": "bafe9c43",
   "metadata": {},
   "source": [
    "## Concatenation of Dataframes"
   ]
  },
  {
   "cell_type": "markdown",
   "id": "297b7352",
   "metadata": {},
   "source": [
    "### Concatenation of Dataframes by rows (One below another) - Default"
   ]
  },
  {
   "cell_type": "code",
   "execution_count": null,
   "id": "b872ad60",
   "metadata": {},
   "outputs": [],
   "source": [
    "# Create a dataframe harvest_21\n",
    "harvest_21 = pd.DataFrame([['potatoes', 900], ['garlic', 1350], ['onions', 875]], columns=['crop', 'qty'])\n",
    "\n",
    "# Print dataframe\n",
    "harvest_21"
   ]
  },
  {
   "cell_type": "code",
   "execution_count": null,
   "id": "9cf95c84",
   "metadata": {},
   "outputs": [],
   "source": [
    "# Create a dataframe harvest_22\n",
    "harvest_22 = pd.DataFrame([['garlic', 1600], ['spinach', 560], ['turnips', 999], ['onions', 1000]], columns=['crop', 'qty'])\n",
    "\n",
    "# Print dataframe\n",
    "harvest_22"
   ]
  },
  {
   "cell_type": "code",
   "execution_count": null,
   "id": "d8327480",
   "metadata": {},
   "outputs": [],
   "source": [
    "# Concat both the dataframes, providing keys to group\n",
    "pd.concat([harvest_21, harvest_22], keys=[\"2021\", \"2022\"])"
   ]
  },
  {
   "cell_type": "code",
   "execution_count": null,
   "id": "5211972a",
   "metadata": {},
   "outputs": [],
   "source": [
    "# Concat both the dataframes, ignoring index\n",
    "pd.concat([harvest_21, harvest_22], ignore_index=True)"
   ]
  },
  {
   "cell_type": "markdown",
   "id": "80b0207c",
   "metadata": {},
   "source": [
    "### Concatenation of Dataframes by columns/indexes  (One adjacent to another)"
   ]
  },
  {
   "cell_type": "code",
   "execution_count": null,
   "id": "f2ecf67f",
   "metadata": {},
   "outputs": [],
   "source": [
    "# Create a dataframe livestock\n",
    "livestock = pd.DataFrame(\n",
    "    [[\"pasture\", 9], [\"stable\", 3], [\"coop\", 34]], \n",
    "    columns=[\"location\", \"qty\"], \n",
    "    index=[\"alpaca\", \"horse\", \"chicken\"]\n",
    ")\n",
    "\n",
    "# Print the dataframe\n",
    "livestock"
   ]
  },
  {
   "cell_type": "code",
   "execution_count": null,
   "id": "0ef2e28d",
   "metadata": {},
   "outputs": [],
   "source": [
    "# Create a dataframe weights\n",
    "weights = pd.DataFrame(\n",
    "    [[4, 10], [900, 2000], [1.2, 4], [110, 150]], \n",
    "    columns=[\"min_weight\", \"max_weight\"], \n",
    "    index=[\"chicken\", \"horse\", \"duck\", \"alpaca\"]\n",
    ")\n",
    "\n",
    "# Print the dataframe\n",
    "weights"
   ]
  },
  {
   "cell_type": "code",
   "execution_count": null,
   "id": "768455f4",
   "metadata": {},
   "outputs": [],
   "source": [
    "# Concat both the dataframes by columns, providing keys to group - Outer Concatenation (default)\n",
    "pd.concat([livestock, weights], axis=1, keys=[\"Source1\", \"Source2\"])"
   ]
  },
  {
   "cell_type": "code",
   "execution_count": null,
   "id": "61f45221",
   "metadata": {},
   "outputs": [],
   "source": [
    "# Concat both the dataframes by columns - Inner Concatenation\n",
    "pd.concat([livestock, weights], axis=1, keys=[\"Source1\", \"Source2\"], join=\"inner\")"
   ]
  },
  {
   "cell_type": "markdown",
   "id": "2de1a190",
   "metadata": {},
   "source": [
    "## Merging\n",
    "\n",
    "1) Often, DataFrames are not in the exact same order or format, which means we cannot simply concatenate them together. \n",
    "\n",
    "In such cases, we need to use the **DataFrame.merge()** method to merge the DataFrames based on a common column. \n",
    "\n",
    "This operation is analogous to a JOIN command in SQL, where the column passed for merging must be unique and non-null.\n",
    "\n",
    "2) The 'on' parameter in the DataFrame.merge() method specifies the column or index level names to join on. \n",
    "\n",
    "It allows you to explicitly define the column(s) that should serve as the key(s) for the merge operation. \n",
    "    \n",
    "When using the 'on' parameter, both DataFrames should have a column with the same name, and the values in that column are used to align the rows for merging. \n",
    "\n",
    "3) The **DataFrame.merge()** method also accepts a key argument, labeled **how**, to specify the type of join to be performed. \n",
    "\n",
    "There are 3 main ways to merge tables together using the **how** parameter:\n",
    "\n",
    "    1) Inner\n",
    "    2) Outer and\n",
    "    3) Left or Right\n",
    "\n",
    "![Joins](https://res.cloudinary.com/dtwgxcqkr/image/upload/v1710408825/Data%20Wrangling/joins.jpg)"
   ]
  },
  {
   "cell_type": "code",
   "execution_count": null,
   "id": "4d1ef4b1",
   "metadata": {},
   "outputs": [],
   "source": [
    "# Create a dataframe teams\n",
    "teams = pd.DataFrame(\n",
    "    [\n",
    "        [\"Suns\", \"Phoenix\", 20, 4],\n",
    "        [\"Mavericks\", \"Dallas\", 11, 12],\n",
    "        [\"Rockets\", \"Houston\", 7, 16],\n",
    "        [\"Nuggets\", \"Denver\", 11, 12]\n",
    "    ],\n",
    "    columns=[\"team\", \"city\", \"wins\", \"losses\"]\n",
    ")\n",
    "\n",
    "# Print the dataframe\n",
    "teams"
   ]
  },
  {
   "cell_type": "code",
   "execution_count": null,
   "id": "9c34b373",
   "metadata": {},
   "outputs": [],
   "source": [
    "# Create a dataframe cities\n",
    "cities = pd.DataFrame(\n",
    "    [\n",
    "        [\"Houston\", \"Texas\", 2310000],\n",
    "        [\"Phoenix\", \"Arizona\", 1630000],\n",
    "        [\"San Diego\", \"California\", 1410000],\n",
    "        [\"Dallas\", \"Texas\", 1310000],\n",
    "    ],\n",
    "    columns=[\"city\", \"state\", \"population\"]\n",
    ")\n",
    "\n",
    "# Print the dataframe\n",
    "cities"
   ]
  },
  {
   "cell_type": "markdown",
   "id": "61a7506f",
   "metadata": {},
   "source": [
    "### Inner Join - Default\n",
    "\n",
    "Merges the datasets by including only the rows with matching keys in both datasets, resulting in a dataset containing only the intersection of the two datasets."
   ]
  },
  {
   "cell_type": "code",
   "execution_count": null,
   "id": "a97937ae",
   "metadata": {},
   "outputs": [],
   "source": [
    "# Merge the dataframes on the column city - Inner Join (default)\n",
    "teams.merge(cities, on=\"city\", how=\"inner\")\n",
    "\n",
    "# Prints records available in both the dataframes"
   ]
  },
  {
   "cell_type": "markdown",
   "id": "5d1bafe5",
   "metadata": {},
   "source": [
    "### Outer Join\n",
    "\n",
    "Combines the datasets by including all rows from both datasets, filling in missing values with NaN where data is unavailable in atleast one of the datasets."
   ]
  },
  {
   "cell_type": "code",
   "execution_count": null,
   "id": "0ac5fa10",
   "metadata": {},
   "outputs": [],
   "source": [
    "# Merge the dataframes on the column city using Outer Join\n",
    "teams.merge(cities, on=\"city\", how=\"outer\")\n",
    "\n",
    "# Prints all the records regardless of whether it being available in both the dataframes or not"
   ]
  },
  {
   "cell_type": "markdown",
   "id": "72d142d1",
   "metadata": {},
   "source": [
    "### Left Join\n",
    "\n",
    "Merges the datasets by including all rows from the left dataset and matching rows from the right dataset, filling in missing values with NaN where data is unavailable in the right dataset."
   ]
  },
  {
   "cell_type": "code",
   "execution_count": null,
   "id": "c96beabd",
   "metadata": {},
   "outputs": [],
   "source": [
    "# Merge the dataframes on the column city using Left Join\n",
    "teams.merge(cities, on=\"city\", how=\"left\")\n",
    "\n",
    "# Prints all the records of teams dataframe regardless of whether it being available in the cities dataframe or not"
   ]
  },
  {
   "cell_type": "markdown",
   "id": "14737709",
   "metadata": {},
   "source": [
    "### Right Join\n",
    "\n",
    "Merges the datasets by including all rows from the right dataset and matching rows from the left dataset, filling in missing values with NaN where data is unavailable in the left dataset."
   ]
  },
  {
   "cell_type": "code",
   "execution_count": null,
   "id": "e575d178",
   "metadata": {},
   "outputs": [],
   "source": [
    "# Merge the dataframes on the column city using Right Join\n",
    "teams.merge(cities, on=\"city\", how=\"right\")\n",
    "\n",
    "# Prints all the records of cities dataframe regardless of whether it being available in the teams dataframe or not"
   ]
  }
 ],
 "metadata": {
  "kernelspec": {
   "display_name": "Python 3 (ipykernel)",
   "language": "python",
   "name": "python3"
  },
  "language_info": {
   "codemirror_mode": {
    "name": "ipython",
    "version": 3
   },
   "file_extension": ".py",
   "mimetype": "text/x-python",
   "name": "python",
   "nbconvert_exporter": "python",
   "pygments_lexer": "ipython3",
   "version": "3.9.12"
  }
 },
 "nbformat": 4,
 "nbformat_minor": 5
}
