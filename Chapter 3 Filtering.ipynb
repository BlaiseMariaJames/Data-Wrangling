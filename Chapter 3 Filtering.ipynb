{
 "cells": [
  {
   "cell_type": "markdown",
   "id": "048f75b3",
   "metadata": {},
   "source": [
    "# Chapter 3 Filtering"
   ]
  },
  {
   "cell_type": "code",
   "execution_count": null,
   "id": "7a18cb58",
   "metadata": {},
   "outputs": [],
   "source": [
    "import pandas as pd\n",
    "\n",
    "# Read titanic dataset\n",
    "tnc = pd.read_csv(\"./datasets/titanic.csv\")\n",
    "\n",
    "# Print dataframe\n",
    "tnc.head()"
   ]
  },
  {
   "cell_type": "markdown",
   "id": "eef9bf7f",
   "metadata": {},
   "source": [
    "## Filter records using boolean series\n",
    "\n",
    "We can filter out rows by passing boolean series as an argument to the Dataframe. All the rows that have corresponding boolean value as True are extracted.\n",
    "\n",
    "**Syntax: df[boolean_series]**"
   ]
  },
  {
   "cell_type": "code",
   "execution_count": null,
   "id": "0bb4a4e8",
   "metadata": {},
   "outputs": [],
   "source": [
    "# Generate boolean series for first 5 passengers\n",
    "boolean = [True, False, True, True, False]\n",
    "\n",
    "# Print only the records that corresponds to True\n",
    "tnc.head()[boolean]"
   ]
  },
  {
   "cell_type": "markdown",
   "id": "745b53df",
   "metadata": {},
   "source": [
    "### To generate boolean series we can take the help of comparison operators in python\n",
    "\n",
    "Useful comparison operators are ==, !=, >, >=, < and <=\n",
    "\n",
    "Ex: df[\"age\"] == 18"
   ]
  },
  {
   "cell_type": "code",
   "execution_count": null,
   "id": "500853e9",
   "metadata": {},
   "outputs": [],
   "source": [
    "# Generate boolean series for male passengers\n",
    "tnc[\"gender\"] == \"male\""
   ]
  },
  {
   "cell_type": "code",
   "execution_count": null,
   "id": "177477c5",
   "metadata": {},
   "outputs": [],
   "source": [
    "# Filter out male passengers from the dataframe using the series\n",
    "tnc[tnc[\"gender\"] == \"male\"]"
   ]
  },
  {
   "cell_type": "code",
   "execution_count": null,
   "id": "c0f2fea4",
   "metadata": {},
   "outputs": [],
   "source": [
    "# Find the count of male passengers\n",
    "len(tnc[tnc[\"gender\"] == \"male\"])"
   ]
  },
  {
   "cell_type": "code",
   "execution_count": null,
   "id": "ef587158",
   "metadata": {},
   "outputs": [],
   "source": [
    "# Extract the passengers who survived\n",
    "tnc[tnc[\"survived\"] == 1]"
   ]
  },
  {
   "cell_type": "code",
   "execution_count": null,
   "id": "f53b9a58",
   "metadata": {},
   "outputs": [],
   "source": [
    "# Extract the passengers who didn't survive\n",
    "tnc[tnc[\"survived\"] != 1]"
   ]
  },
  {
   "cell_type": "code",
   "execution_count": null,
   "id": "2c816b65",
   "metadata": {},
   "outputs": [],
   "source": [
    "# Extract the passengers whose age is greater than or equal to 18\n",
    "# tnc[tnc[\"age\"] >= 18]"
   ]
  },
  {
   "cell_type": "code",
   "execution_count": null,
   "id": "8d11dfcd",
   "metadata": {},
   "outputs": [],
   "source": [
    "# Verify that the datatype of age is string (python object)\n",
    "tnc.age"
   ]
  },
  {
   "cell_type": "code",
   "execution_count": null,
   "id": "8b97377f",
   "metadata": {},
   "outputs": [],
   "source": [
    "# Since it is an object we cannot perform comparison operators on strings. \n",
    "# Only equality operations can be performed on strings.\n",
    "tnc[tnc.age == \"18\"]"
   ]
  },
  {
   "cell_type": "code",
   "execution_count": null,
   "id": "96021194",
   "metadata": {},
   "outputs": [],
   "source": [
    "# Check for numeric columns in dataframe that do not contain '?'\n",
    "def check(col):\n",
    "    for row in tnc[col]:\n",
    "        if row == '?':\n",
    "            return False\n",
    "    return True\n",
    "\n",
    "for col in tnc.columns:\n",
    "    if(check(col) and tnc[col].dtype == \"int64\"):\n",
    "        print(col)"
   ]
  },
  {
   "cell_type": "code",
   "execution_count": null,
   "id": "39e7b69c",
   "metadata": {},
   "outputs": [],
   "source": [
    "# Filter records whose count of siblings or spouse is greater than 1\n",
    "tnc[tnc[\"sibsp\"] > 1]"
   ]
  },
  {
   "cell_type": "code",
   "execution_count": null,
   "id": "ccf89788",
   "metadata": {},
   "outputs": [],
   "source": [
    "# Read houses dataset\n",
    "houses = pd.read_csv(\"./datasets/kc_house_data.csv\")\n",
    "\n",
    "# Print dataframe\n",
    "houses.head()"
   ]
  },
  {
   "cell_type": "code",
   "execution_count": null,
   "id": "98d9c9eb",
   "metadata": {},
   "outputs": [],
   "source": [
    "# Extract houses whose price is greater than 5,000,000\n",
    "price_cond = houses[\"price\"] > 5_000_000\n",
    "houses[price_cond]"
   ]
  },
  {
   "cell_type": "code",
   "execution_count": null,
   "id": "df492465",
   "metadata": {},
   "outputs": [],
   "source": [
    "# Extract houses whose no. of bedrooms is greater than or equal to 10\n",
    "bdroom_cond = houses[\"bedrooms\"] >= 10\n",
    "houses[bdroom_cond]"
   ]
  },
  {
   "cell_type": "code",
   "execution_count": null,
   "id": "7d21e6a4",
   "metadata": {},
   "outputs": [],
   "source": [
    "# Extract houses whose no. of bathrooms is less than 1\n",
    "bathroom_cond = houses[\"bathrooms\"] < 1\n",
    "houses[bathroom_cond]"
   ]
  },
  {
   "cell_type": "code",
   "execution_count": null,
   "id": "4686920e",
   "metadata": {},
   "outputs": [],
   "source": [
    "# Extract houses whose grade is less than or equal to 7\n",
    "grd_cond = houses[\"grade\"] <= 7\n",
    "houses[grd_cond]"
   ]
  },
  {
   "cell_type": "markdown",
   "id": "8456f810",
   "metadata": {},
   "source": [
    "## Filter records within a range\n",
    "\n",
    "To filter records within a range we make use of the method:\n",
    "    \n",
    "**Dataframe.column.between(min, max)**\n",
    "\n",
    "Ex: df[\"age\"].between(13, 19)"
   ]
  },
  {
   "cell_type": "code",
   "execution_count": null,
   "id": "02a0f084",
   "metadata": {},
   "outputs": [],
   "source": [
    "# Extract houses whose latitude lie in the range 47.30 to 47.35\n",
    "lat_cond = houses[\"lat\"].between(47.30, 47.35)\n",
    "houses[lat_cond]"
   ]
  },
  {
   "cell_type": "markdown",
   "id": "17ae9f23",
   "metadata": {},
   "source": [
    "## Filter records whose values lie in a set\n",
    "\n",
    "To filter records based on whether their values lie in a set we make use of the method:\n",
    "\n",
    "**Dataframe.column.isin([val1, val2, ..., valN])**\n",
    "\n",
    "Ex: df[\"age\"].isin(10,20,30,40)"
   ]
  },
  {
   "cell_type": "code",
   "execution_count": null,
   "id": "2ff3bdd2",
   "metadata": {},
   "outputs": [],
   "source": [
    "# Extract houses built in the years 1940, 1965 and 2008\n",
    "yr_cond = houses[\"yr_built\"].isin([1940, 1965, 2008])\n",
    "houses[yr_cond]"
   ]
  },
  {
   "cell_type": "markdown",
   "id": "5369a751",
   "metadata": {},
   "source": [
    "## Filter records by combining conditions\n",
    "\n",
    "We can combine the multiple conditions used while filtering using the bitwise **AND &** and **OR |** operators.\n",
    "\n",
    "Ex: Return records of illegal child marriages of Indian girl children\n",
    "\n",
    "    teenage = df[\"age\"] <= 21\n",
    "    indian = df[\"country\"] == \"India\"\n",
    "    girl = df[\"gender\"] == \"female\"\n",
    "    married = df[\"married\"] == True\n",
    "    \n",
    "**Combine the logic:**\n",
    "    \n",
    "    df[married & indian & teenage & girl]"
   ]
  },
  {
   "cell_type": "code",
   "execution_count": null,
   "id": "e82fc329",
   "metadata": {},
   "outputs": [],
   "source": [
    "# Extract male passengers who survived having siblings or spouse count greater than or equal to 2\n",
    "male = tnc[\"gender\"] == \"male\"\n",
    "double = tnc[\"sibsp\"] >= 2\n",
    "survived = tnc[\"survived\"] == 1\n",
    "\n",
    "# Combine all the logic\n",
    "tnc[male & survived & double]"
   ]
  },
  {
   "cell_type": "code",
   "execution_count": null,
   "id": "02de7f72",
   "metadata": {},
   "outputs": [],
   "source": [
    "# Extract passengers who are male of pclass not equal to 1 (or) are women of pclass equal to 1\n",
    "male = tnc[\"gender\"] == \"male\"\n",
    "male_pclass = tnc[\"pclass\"] != 1\n",
    "\n",
    "female = tnc[\"gender\"] == \"female\"\n",
    "female_pclass = tnc[\"pclass\"] == 1\n",
    "\n",
    "tnc[(male & male_pclass) | (female & female_pclass)]"
   ]
  },
  {
   "cell_type": "markdown",
   "id": "78996a9a",
   "metadata": {},
   "source": [
    "## Filter records that do not meet the required conditions\n",
    "\n",
    "To extract all the records that doesn't satisfy the required conditions we can make use of bitwise negation **~** operator."
   ]
  },
  {
   "cell_type": "code",
   "execution_count": null,
   "id": "52b7fb67",
   "metadata": {},
   "outputs": [],
   "source": [
    "# Extract houses that are new\n",
    "# Note that a house is said to be new if it is built or renovated in the year 2014 or after\n",
    "yr_blt = houses[\"yr_built\"] >= 2014\n",
    "yr_rnt = houses[\"yr_renovated\"] >= 2014\n",
    "\n",
    "houses[yr_blt | yr_rnt]"
   ]
  },
  {
   "cell_type": "code",
   "execution_count": null,
   "id": "b2105fbf",
   "metadata": {
    "scrolled": true
   },
   "outputs": [],
   "source": [
    "# Extract houses that are old\n",
    "# Note that a house is said to be old if it is not new\n",
    "houses[~(yr_blt | yr_rnt)]"
   ]
  },
  {
   "cell_type": "markdown",
   "id": "61db61d6",
   "metadata": {},
   "source": [
    "## Filter records based on whether they are null or non-null\n",
    "\n",
    "**Note: NaN (Not a Number) refers to missing or null values in pandas nomenclature.**\n",
    "\n",
    "We can filter records if they are NaN (null values) using the **Dataframe.column.isna()** method. \n",
    "\n",
    "And if they are not NaN (non null values) using the **Dataframe.column.notna()** method."
   ]
  },
  {
   "cell_type": "code",
   "execution_count": null,
   "id": "5b3ac932",
   "metadata": {},
   "outputs": [],
   "source": [
    "# Read sales dataset\n",
    "sales = pd.read_csv(\"./datasets/sales.csv\")\n",
    "\n",
    "# Print dataframe\n",
    "sales"
   ]
  },
  {
   "cell_type": "code",
   "execution_count": null,
   "id": "605e0440",
   "metadata": {},
   "outputs": [],
   "source": [
    "# Extract sales that have null ratings\n",
    "na = sales[\"rating\"].isna()\n",
    "sales[na]"
   ]
  },
  {
   "cell_type": "code",
   "execution_count": null,
   "id": "944d2c36",
   "metadata": {},
   "outputs": [],
   "source": [
    "# Extract sales that have non-null shipping_zip\n",
    "na = sales[\"shipping_zip\"].notna()\n",
    "sales[na]"
   ]
  }
 ],
 "metadata": {
  "kernelspec": {
   "display_name": "Python 3 (ipykernel)",
   "language": "python",
   "name": "python3"
  },
  "language_info": {
   "codemirror_mode": {
    "name": "ipython",
    "version": 3
   },
   "file_extension": ".py",
   "mimetype": "text/x-python",
   "name": "python",
   "nbconvert_exporter": "python",
   "pygments_lexer": "ipython3",
   "version": "3.9.12"
  }
 },
 "nbformat": 4,
 "nbformat_minor": 5
}
