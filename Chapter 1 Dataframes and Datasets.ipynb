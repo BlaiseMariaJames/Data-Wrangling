{
 "cells": [
  {
   "cell_type": "markdown",
   "id": "f1b7fdc1",
   "metadata": {},
   "source": [
    "# Chapter 1 Dataframes and Datasets"
   ]
  },
  {
   "cell_type": "markdown",
   "id": "cf5623fc",
   "metadata": {},
   "source": [
    "## Introduction to Data Wrangling\n",
    "\n",
    "**\"Data wrangling is the process of transforming and structuring data from its raw form into a desired format with the intent of improving data quality and making it more consumable and useful for analytics or machine learning. It is also sometimes called data munging.\"**\n",
    "\n",
    "In Python, data wrangling is achieved using the 'pandas' library.\n",
    "\n",
    "**To install the pandas library, use the following command:**\n",
    "\n",
    "In command prompt: pip install pandas\n",
    "\n",
    "In a notebook environment: !pip install pandas"
   ]
  },
  {
   "cell_type": "code",
   "execution_count": null,
   "id": "953fb035",
   "metadata": {},
   "outputs": [],
   "source": [
    "# Install pandas\n",
    "!pip install pandas"
   ]
  },
  {
   "cell_type": "markdown",
   "id": "3aaf27ce",
   "metadata": {},
   "source": [
    "## Pandas\n",
    "\n",
    "**\"Pandas (commonly imported as pd) is a fast, powerful, flexible, and easy-to-use open-source data analysis and manipulation tool, built on top of the Python programming language.\"**\n",
    "\n",
    "Pandas works with datasets and helps analyze them in detail. Therefore, it is essential to provide pandas with a dataset.\n",
    "\n",
    "**Official documentation for pandas:** https://pandas.pydata.org/docs/reference/index.html"
   ]
  },
  {
   "cell_type": "markdown",
   "id": "373e2225",
   "metadata": {},
   "source": [
    "## Datasets\n",
    "\n",
    "Textual datasets can be stored in many different formats, including:\n",
    "\n",
    "1. CSV (Comma-Separated Values)\n",
    "2. JSON (JavaScript Object Notation)\n",
    "3. SQL (Structured Query Language) Relations\n",
    "4. And many others\n",
    "\n",
    "By far, the most commonly used format is CSV."
   ]
  },
  {
   "cell_type": "markdown",
   "id": "5c2164a6",
   "metadata": {},
   "source": [
    "### Comma-Seperated Values\n",
    "\n",
    "As the name suggests, the values are separated by commas. The dataset is divided into rows and columns, with the first row defining all the columns.\n",
    "\n",
    "Ex:\n",
    "\n",
    "        \"Pokedex Number\", \"Name\", \"Type\"\n",
    "        1, \"Bulbasaur\", \"Grass\"\n",
    "        2, \"Ivysaur\", \"Grass\"\n",
    "        4, \"Charmander\", \"Fire\"\n",
    "        7, \"Squirtle\", \"Water\""
   ]
  },
  {
   "cell_type": "markdown",
   "id": "23613ee1",
   "metadata": {},
   "source": [
    "More readable format:\n",
    "\n",
    "| Pokedex Number | Name        | Type    |\n",
    "|----------------|-------------|---------|\n",
    "| 1              | Bulbasaur   | Grass   |\n",
    "| 2              | Ivysaur     | Grass   |\n",
    "| 4              | Charmander  | Fire    |\n",
    "| 7              | Squirtle    | Water   |"
   ]
  },
  {
   "cell_type": "markdown",
   "id": "ee5276f4",
   "metadata": {},
   "source": [
    "**However, it's worth noting that when reading CSV files, pandas is flexible enough to separate values by any special character as specified by the user.**\n",
    "\n",
    "**Best source for datasets, Kaggle:** https://www.kaggle.com/datasets"
   ]
  },
  {
   "cell_type": "markdown",
   "id": "27795d3e",
   "metadata": {},
   "source": [
    "## Dataframes\n",
    "\n",
    "Pandas works only upon a special data structure called Dataframes (commonly referred as df). To work with any dataset in any form, first it needs to be converted into a Dataframe. \n",
    "\n",
    "**\"A Dataframe is a two dimensional, size-mutable, potentially heterogeneous tabular data structure with labeled axes.\"**\n",
    "\n",
    "To read a dataset and convert into a Dataframe we use the method **read_extension()**"
   ]
  },
  {
   "cell_type": "markdown",
   "id": "a97616f9",
   "metadata": {},
   "source": [
    "## Input a .csv dataset into Pandas\n",
    "\n",
    "To read a .csv file, we make use of the Pandas.read_csv() method. It converts the .csv file into a dataframe with which pandas can perform data analysis or manipulation.\n",
    "\n",
    "Syntax: pandas.read_csv('Path to file')\n",
    "\n",
    "Example:"
   ]
  },
  {
   "cell_type": "code",
   "execution_count": null,
   "id": "b240604d",
   "metadata": {},
   "outputs": [],
   "source": [
    "# Import pandas\n",
    "import pandas as pd\n",
    "\n",
    "# Path to the file\n",
    "path = \"./datasets/sales.csv\"\n",
    "\n",
    "# Read the csv file and convert it into a dataframe\n",
    "pd.read_csv(path)\n",
    "\n",
    "# Capture the dataframe into a variable\n",
    "df_sales = pd.read_csv(path)\n",
    "\n",
    "# Print the dataframe\n",
    "df_sales"
   ]
  },
  {
   "cell_type": "code",
   "execution_count": null,
   "id": "609834b3",
   "metadata": {},
   "outputs": [],
   "source": [
    "# Try with a much bigger dataset \"kc_house_data.csv\" in the \"datasets\" folder.\n",
    "\n",
    "df_houses = pd.read_csv(\"./datasets/kc_house_data.csv\")\n",
    "\n",
    "df_houses"
   ]
  },
  {
   "cell_type": "markdown",
   "id": "18f7d840",
   "metadata": {},
   "source": [
    "## Simple properties/methods defined on DataFrames\n",
    "\n",
    "**Official documentation for all the various methods defined on dataframes:** https://pandas.pydata.org/docs/reference/frame.html\n",
    "\n",
    "1) **Dataframe.columns:** Returns the column/attribute labels of the dataframe.\n",
    "\n",
    "Ex: df_sales.columns"
   ]
  },
  {
   "cell_type": "code",
   "execution_count": null,
   "id": "1e642a44",
   "metadata": {},
   "outputs": [],
   "source": [
    "# Columns in sales dataframe\n",
    "df_sales.columns"
   ]
  },
  {
   "cell_type": "code",
   "execution_count": null,
   "id": "c958a621",
   "metadata": {},
   "outputs": [],
   "source": [
    "# Columns in houses dataframe\n",
    "df_houses.columns"
   ]
  },
  {
   "cell_type": "markdown",
   "id": "fc2a6b87",
   "metadata": {},
   "source": [
    "2) **len(Dataframe):** Returns the no. of rows/records/tuples in the dataframe.\n",
    "\n",
    "Ex: len(df_sales)"
   ]
  },
  {
   "cell_type": "code",
   "execution_count": null,
   "id": "d0fb9566",
   "metadata": {},
   "outputs": [],
   "source": [
    "# Return the no. of rows in sales dataframe\n",
    "len(df_sales)"
   ]
  },
  {
   "cell_type": "code",
   "execution_count": null,
   "id": "d5a15ec6",
   "metadata": {},
   "outputs": [],
   "source": [
    "# Return the no. of rows in houses dataframe\n",
    "len(df_houses)"
   ]
  },
  {
   "cell_type": "markdown",
   "id": "05ad9b31",
   "metadata": {},
   "source": [
    "3) **Dataframe.shape:** Returns the no. of rows and cols in the dataframe.\n",
    "    \n",
    "Ex: df_sales.shape"
   ]
  },
  {
   "cell_type": "code",
   "execution_count": null,
   "id": "ac441ffe",
   "metadata": {},
   "outputs": [],
   "source": [
    "# Return the shape of sales dataframe\n",
    "df_sales.shape\n",
    "\n",
    "# The output (7, 3) indicates that the dataframe has 7 rows and 3 columns"
   ]
  },
  {
   "cell_type": "code",
   "execution_count": null,
   "id": "9c8a6f27",
   "metadata": {},
   "outputs": [],
   "source": [
    "# Return the shape of houses dataframe\n",
    "df_houses.shape"
   ]
  },
  {
   "cell_type": "markdown",
   "id": "f09cff59",
   "metadata": {},
   "source": [
    "4) **Dataframe.size:** Returns the area/size (i.e, rows * cols) of dataframe.\n",
    "    \n",
    "Ex: df_sales.size"
   ]
  },
  {
   "cell_type": "code",
   "execution_count": null,
   "id": "b625e939",
   "metadata": {},
   "outputs": [],
   "source": [
    "# Return the size of sales dataframe\n",
    "df_sales.size"
   ]
  },
  {
   "cell_type": "code",
   "execution_count": null,
   "id": "4bdc0764",
   "metadata": {},
   "outputs": [],
   "source": [
    "# Return the size of houses dataframe\n",
    "df_houses.size"
   ]
  },
  {
   "cell_type": "markdown",
   "id": "3927df2c",
   "metadata": {},
   "source": [
    "## Display property of Pandas and Subsetting of Dataframes by no. of rows\n",
    "\n",
    "1) **pd.options.display.min_rows:** Max no. of rows to be displayed.\n",
    "\n",
    "Ex: pd.options.display.min_rows = 10"
   ]
  },
  {
   "cell_type": "code",
   "execution_count": null,
   "id": "192fbb85",
   "metadata": {},
   "outputs": [],
   "source": [
    "# Display at max 10 rows\n",
    "pd.options.display.min_rows = 10"
   ]
  },
  {
   "cell_type": "code",
   "execution_count": null,
   "id": "a48e815d",
   "metadata": {},
   "outputs": [],
   "source": [
    "# Now try printing sales dataframe\n",
    "df_sales"
   ]
  },
  {
   "cell_type": "code",
   "execution_count": null,
   "id": "c958ddf1",
   "metadata": {},
   "outputs": [],
   "source": [
    "# Now try printing houses dataframe\n",
    "df_houses"
   ]
  },
  {
   "cell_type": "markdown",
   "id": "145dbb13",
   "metadata": {},
   "source": [
    "2) **Dataframe.head(count):** Returns the first 'count' no. of rows of the dataframe. By default the value of count is 5.\n",
    "\n",
    "Ex: df_sales.head()"
   ]
  },
  {
   "cell_type": "code",
   "execution_count": null,
   "id": "a317699f",
   "metadata": {},
   "outputs": [],
   "source": [
    "# Print the first five rows in sales dataframe\n",
    "df_sales.head()"
   ]
  },
  {
   "cell_type": "code",
   "execution_count": null,
   "id": "abbeb51f",
   "metadata": {},
   "outputs": [],
   "source": [
    "# Print the first five rows in houses dataframe\n",
    "df_houses.head()"
   ]
  },
  {
   "cell_type": "code",
   "execution_count": null,
   "id": "050e2232",
   "metadata": {},
   "outputs": [],
   "source": [
    "# Store the first 15 rows in houses dataframe into a new dataframe called 'df_15houses'\n",
    "df_15houses = df_houses.head(15)\n",
    "\n",
    "df_15houses"
   ]
  },
  {
   "cell_type": "markdown",
   "id": "96a5c6d8",
   "metadata": {},
   "source": [
    "3) **Dataframe.tail(count):** Returns the last 'count' no. of rows of the dataframe. By default the value of count is 5.\n",
    "\n",
    "Ex: df_sales.tail()"
   ]
  },
  {
   "cell_type": "code",
   "execution_count": null,
   "id": "98426053",
   "metadata": {},
   "outputs": [],
   "source": [
    "# Print the last five rows in sales dataframe\n",
    "df_sales.tail()"
   ]
  },
  {
   "cell_type": "code",
   "execution_count": null,
   "id": "93cd14b6",
   "metadata": {},
   "outputs": [],
   "source": [
    "# Print the last five rows in houses dataframe\n",
    "df_houses.tail()"
   ]
  },
  {
   "cell_type": "code",
   "execution_count": null,
   "id": "38ee3ec5",
   "metadata": {},
   "outputs": [],
   "source": [
    "# Store the last 15 rows in houses dataframe into a new dataframe called 'df_15lasthouses'\n",
    "df_15lasthouses = df_houses.tail(15)\n",
    "\n",
    "df_15lasthouses"
   ]
  },
  {
   "cell_type": "markdown",
   "id": "83cb15cb",
   "metadata": {},
   "source": [
    "## Datatypes of columns in Dataframes\n",
    "\n",
    "Pandas by default while converting the dataset into a dataframe, analyzes the type of each column in the dataset and assigns appropriate datatype to it.\n",
    "\n",
    "1) **Dataframe.dtypes:** To know the datatypes assigned to each column.\n",
    "\n",
    "Ex: df_sales.dtypes"
   ]
  },
  {
   "cell_type": "code",
   "execution_count": null,
   "id": "55e27e7e",
   "metadata": {},
   "outputs": [],
   "source": [
    "# Information about datatypes in sales dataframe\n",
    "df_sales.dtypes"
   ]
  },
  {
   "cell_type": "code",
   "execution_count": null,
   "id": "6c7e62f1",
   "metadata": {},
   "outputs": [],
   "source": [
    "# Information about datatypes in houses dataframe\n",
    "df_houses.dtypes"
   ]
  },
  {
   "cell_type": "markdown",
   "id": "0e4cbc54",
   "metadata": {},
   "source": [
    "2) **Dataframe.info():** To know the datatypes assigned to each column in the dataframe, the no. of non-null records of the specified column and the total memory occupied by the dataframe.\n",
    "\n",
    "Ex: df_sales.info()"
   ]
  },
  {
   "cell_type": "code",
   "execution_count": null,
   "id": "79efb76b",
   "metadata": {},
   "outputs": [],
   "source": [
    "# Print sales dataset\n",
    "df_sales.head()"
   ]
  },
  {
   "cell_type": "code",
   "execution_count": null,
   "id": "2ad7c203",
   "metadata": {},
   "outputs": [],
   "source": [
    "# Information about datatypes, no. of non-null records in sales dataframe\n",
    "df_sales.info()"
   ]
  },
  {
   "cell_type": "code",
   "execution_count": null,
   "id": "22c60a38",
   "metadata": {},
   "outputs": [],
   "source": [
    "# Print houses dataset\n",
    "df_houses.head()"
   ]
  },
  {
   "cell_type": "code",
   "execution_count": null,
   "id": "7e2b1f02",
   "metadata": {},
   "outputs": [],
   "source": [
    "# Information about datatypes, no. of non-null records in houses dataframe\n",
    "df_houses.info()"
   ]
  },
  {
   "cell_type": "markdown",
   "id": "6839d093",
   "metadata": {},
   "source": [
    "## Basic Dataframe Analysis Methods\n",
    "\n",
    "| Method   | Description                                           |\n",
    "|:---------|:------------------------------------------------------|\n",
    "| sum      | Returns the sum of values in the DataFrame.           |\n",
    "| min      | Returns the minimum value in the DataFrame.           |\n",
    "| max      | Returns the maximum value in the DataFrame.           |\n",
    "| count    | Returns the count of non-null values in the DataFrame.|\n",
    "| mean     | Returns the mean of values in the DataFrame.          |\n",
    "| median   | Returns the median of values in the DataFrame.        |\n",
    "| mode     | Returns the mode of values in the DataFrame.          |\n",
    "| describe | Returns a DataFrame with statistical information like mean, standard deviation, minimum, maximum, and quartiles. |"
   ]
  },
  {
   "cell_type": "code",
   "execution_count": null,
   "id": "c8c2c5cb",
   "metadata": {},
   "outputs": [],
   "source": [
    "# Print houses dataset\n",
    "df_houses.head()"
   ]
  },
  {
   "cell_type": "code",
   "execution_count": null,
   "id": "3c199e87",
   "metadata": {},
   "outputs": [],
   "source": [
    "# Find the sum of all the columns in houses dataset\n",
    "df_houses.sum()\n",
    "\n",
    "# Note: Peforms string concatenation for Date/String datatypes"
   ]
  },
  {
   "cell_type": "code",
   "execution_count": null,
   "id": "7a0aeee1",
   "metadata": {},
   "outputs": [],
   "source": [
    "# Find the sum of all the numeric columns in houses dataset\n",
    "df_houses.sum(numeric_only=True)"
   ]
  },
  {
   "cell_type": "code",
   "execution_count": null,
   "id": "a7c42e8c",
   "metadata": {},
   "outputs": [],
   "source": [
    "# Find the min among all the columns in houses dataset\n",
    "df_houses.min()"
   ]
  },
  {
   "cell_type": "code",
   "execution_count": null,
   "id": "0220943b",
   "metadata": {},
   "outputs": [],
   "source": [
    "# Find the max among all the columns in houses dataset\n",
    "df_houses.max()"
   ]
  },
  {
   "cell_type": "code",
   "execution_count": null,
   "id": "1d0e5451",
   "metadata": {},
   "outputs": [],
   "source": [
    "# Find the count of all the columns (NA values excluded) in houses dataset\n",
    "df_houses.count()"
   ]
  },
  {
   "cell_type": "code",
   "execution_count": null,
   "id": "9e577195",
   "metadata": {},
   "outputs": [],
   "source": [
    "# Print sales dataset\n",
    "df_sales.head()"
   ]
  },
  {
   "cell_type": "code",
   "execution_count": null,
   "id": "b6477b51",
   "metadata": {},
   "outputs": [],
   "source": [
    "# Find the count of all the columns (NA values excluded) in sales dataset\n",
    "df_sales.count()"
   ]
  },
  {
   "cell_type": "code",
   "execution_count": null,
   "id": "4d1307e2",
   "metadata": {},
   "outputs": [],
   "source": [
    "# Find the mean of all the columns in houses dataset\n",
    "# df_houses.mean()"
   ]
  },
  {
   "cell_type": "markdown",
   "id": "404ebac2",
   "metadata": {},
   "source": [
    "#### Important Note: The mean, median and mode of a dataset could be found only for numerical data. \n",
    "\n",
    "The columns that contain non-numeric data are known as nuisance columns, which need to be removed before calculating them. Fortunately, pandas by default returns only for non-numeric data, but it may not in the near future.\n",
    "\n",
    "Ex: \n",
    "\n",
    "df_numeric_sales = df_sales.select_dtypes(include=\"number\")\n",
    "\n",
    "df_numeric_sales.mean()"
   ]
  },
  {
   "cell_type": "code",
   "execution_count": null,
   "id": "6c0e8455",
   "metadata": {},
   "outputs": [],
   "source": [
    "# Extract numeric columns from dataset\n",
    "df_numeric_houses = df_houses.select_dtypes(include=\"number\")\n",
    "\n",
    "# Calculate the mean\n",
    "df_numeric_houses.mean()"
   ]
  },
  {
   "cell_type": "code",
   "execution_count": null,
   "id": "7cf1714b",
   "metadata": {},
   "outputs": [],
   "source": [
    "# Find the median of all the columns in houses dataset\n",
    "df_numeric_houses.median()"
   ]
  },
  {
   "cell_type": "code",
   "execution_count": null,
   "id": "6827f6a0",
   "metadata": {},
   "outputs": [],
   "source": [
    "# Find the mode of all the columns in houses dataset\n",
    "df_numeric_houses.mode()"
   ]
  },
  {
   "cell_type": "code",
   "execution_count": null,
   "id": "b5ce5094",
   "metadata": {},
   "outputs": [],
   "source": [
    "# Describe the statistical information of houses dataset - Always runs only on numeric columns\n",
    "df_houses.describe()"
   ]
  }
 ],
 "metadata": {
  "kernelspec": {
   "display_name": "Python 3 (ipykernel)",
   "language": "python",
   "name": "python3"
  },
  "language_info": {
   "codemirror_mode": {
    "name": "ipython",
    "version": 3
   },
   "file_extension": ".py",
   "mimetype": "text/x-python",
   "name": "python",
   "nbconvert_exporter": "python",
   "pygments_lexer": "ipython3",
   "version": "3.9.12"
  }
 },
 "nbformat": 4,
 "nbformat_minor": 5
}
