{
 "cells": [
  {
   "cell_type": "markdown",
   "id": "d4fd311c",
   "metadata": {},
   "source": [
    "# Chapter 5 Grouping and Aggregating"
   ]
  },
  {
   "cell_type": "code",
   "execution_count": null,
   "id": "79c739e9",
   "metadata": {},
   "outputs": [],
   "source": [
    "import pandas as pd\n",
    "\n",
    "# Read car_stocks dataset\n",
    "car_stks = pd.read_csv(\"./datasets/car_stocks.csv\")\n",
    "\n",
    "# Print the dataframe\n",
    "car_stks.head()"
   ]
  },
  {
   "cell_type": "markdown",
   "id": "de7df5cc",
   "metadata": {},
   "source": [
    "### Find the average closing price of all possible values of column 'Symbol'"
   ]
  },
  {
   "cell_type": "code",
   "execution_count": null,
   "id": "72d72e5b",
   "metadata": {},
   "outputs": [],
   "source": [
    "# Find the different possible values of Symbol in the dataframe\n",
    "\n",
    "# Firstly, we can find the different possible values and their counts of a column using the \n",
    "# Dataframe.column.value_counts() method\n",
    "car_stks.Symbol.value_counts()"
   ]
  },
  {
   "cell_type": "code",
   "execution_count": null,
   "id": "f52b3d32",
   "metadata": {},
   "outputs": [],
   "source": [
    "# Find average closing price of RIVN\n",
    "RIVN = car_stks[\"Symbol\"] == \"RIVN\"\n",
    "car_stks[RIVN].Close.mean()"
   ]
  },
  {
   "cell_type": "code",
   "execution_count": null,
   "id": "15723283",
   "metadata": {},
   "outputs": [],
   "source": [
    "# Find average closing price of LCID\n",
    "LCID = car_stks[\"Symbol\"] == \"LCID\"\n",
    "car_stks[LCID].Close.mean()"
   ]
  },
  {
   "cell_type": "code",
   "execution_count": null,
   "id": "7f913801",
   "metadata": {},
   "outputs": [],
   "source": [
    "# Find average closing price of GM\n",
    "GM = car_stks[\"Symbol\"] == \"GM\"\n",
    "car_stks[GM].Close.mean()"
   ]
  },
  {
   "cell_type": "markdown",
   "id": "b2084295",
   "metadata": {},
   "source": [
    "For a large dataset with numerous types of possible values, individually finding the average values for each type can be impractical. Is there any better alternative to this? The answer is **Grouping**.\n",
    "\n",
    "## Group by column\n",
    "\n",
    "To group by values in a column we can make use of the following method:\n",
    "\n",
    "**Dataframe.groupby(by=Column):** Returns a DataframeGroupBy object that rearranges the order of records to group them together based on the column passed. We can then apply various Dataframe methods to analyze these groups further.\n",
    "\n",
    "Ex: df.groupby(by=\"age\") or df.groupby(\"age\")"
   ]
  },
  {
   "cell_type": "code",
   "execution_count": null,
   "id": "178cc350",
   "metadata": {},
   "outputs": [],
   "source": [
    "# Grouping by the 'Symbol' column and finding the mean closing price for each group\n",
    "grouped_data = car_stks.groupby(\"Symbol\")\n",
    "grouped_data[\"Close\"].mean()\n",
    "\n",
    "# This would calculate the mean closing price for each unique value in the 'Symbol' column."
   ]
  },
  {
   "cell_type": "code",
   "execution_count": null,
   "id": "490a8b72",
   "metadata": {},
   "outputs": [],
   "source": [
    "# Read titanic dataset\n",
    "titanic = pd.read_csv(\"./datasets/titanic.csv\")\n",
    "\n",
    "# Print the dataframe\n",
    "titanic.head()"
   ]
  },
  {
   "cell_type": "code",
   "execution_count": null,
   "id": "7f14768e",
   "metadata": {},
   "outputs": [],
   "source": [
    "# Find the datatype of age\n",
    "titanic.age.dtype\n",
    "\n",
    "# dtype('O') represents Python Object str"
   ]
  },
  {
   "cell_type": "code",
   "execution_count": null,
   "id": "7e4e5dd7",
   "metadata": {},
   "outputs": [],
   "source": [
    "# Convert datatype from Python Object str to float64\n",
    "\n",
    "# Replace '?' with None using replace method, in place\n",
    "titanic.age.replace(['?'], [None], inplace=True)\n",
    "\n",
    "# Set the datatype from Python Object to float64\n",
    "titanic.age = titanic.age.astype(\"float\")\n",
    "\n",
    "# Confirm change in datatype\n",
    "titanic.age.dtype"
   ]
  },
  {
   "cell_type": "code",
   "execution_count": null,
   "id": "53f59a72",
   "metadata": {},
   "outputs": [],
   "source": [
    "# Create a shorter version of titanic dataframe including only the columns pclass, survived, gender and age\n",
    "tnc = titanic[[\"pclass\", \"survived\", \"gender\", \"age\"]]\n",
    "\n",
    "# Print the dataframe\n",
    "tnc.head()"
   ]
  },
  {
   "cell_type": "markdown",
   "id": "1c6fea27",
   "metadata": {},
   "source": [
    "## Exploring various properties/methods on groups\n",
    "\n",
    "As discussed above, we can group the records based on a column using the method **Dataframe.groupby(by=Column)** or simply **Dataframe.groupby(Column)**. It returns a DataframeGroupBy object that can be later used to perform data analysis on these groups.\n",
    "\n",
    "1) **DataframeGroupBy.ngroups:** Returns the number of unique groups formed after the groupby() operation. It provides insight into the diversity of groups within the dataset.\n",
    "\n",
    "Ex: df.groupby(\"age\").ngroups\n",
    "\n",
    "2) **DataframeGroupBy.groups:** Returns a dictionary where the keys are the unique group labels and the values are arrays of index labels corresponding to each group. It provides a convenient way to access the indexes of records within each group.\n",
    "\n",
    "Ex: df.groupby(\"age\").groups\n",
    "\n",
    "3) **DataframeGroupBy.get_group(group_name):** Returns a Dataframe containing records of specified group.\n",
    "\n",
    "Ex: df.groupby(\"age\").get_group(14.0)"
   ]
  },
  {
   "cell_type": "code",
   "execution_count": null,
   "id": "57c60100",
   "metadata": {},
   "outputs": [],
   "source": [
    "# Create a DataframeGroupBy Object on the column \"gender\"\n",
    "gender_gbo = tnc.groupby(by=\"gender\")\n",
    "\n",
    "# Create a DataframeGroupBy Object on the column \"age\"\n",
    "age_gbo = tnc.groupby(by=\"age\")\n",
    "\n",
    "# Create a DataframeGroupBy Object on the column \"survived\"\n",
    "surv_gbo = tnc.groupby(by=\"survived\")"
   ]
  },
  {
   "cell_type": "code",
   "execution_count": null,
   "id": "4b497085",
   "metadata": {},
   "outputs": [],
   "source": [
    "# Print the various groups (genders)\n",
    "gender_gbo.ngroups\n",
    "\n",
    "# Two groups are formed (male and female)"
   ]
  },
  {
   "cell_type": "code",
   "execution_count": null,
   "id": "894bf3c3",
   "metadata": {},
   "outputs": [],
   "source": [
    "# Print the various groups (age)\n",
    "age_gbo.ngroups\n",
    "\n",
    "# 98 groups are formed"
   ]
  },
  {
   "cell_type": "code",
   "execution_count": null,
   "id": "f159bb58",
   "metadata": {},
   "outputs": [],
   "source": [
    "# Print the indexes of each group (genders)\n",
    "gender_gbo.groups\n",
    "\n",
    "# Returns a dictionary with group label (female, male) as keys and the values are arrays of index labels corresponding to each group"
   ]
  },
  {
   "cell_type": "code",
   "execution_count": null,
   "id": "ba045d06",
   "metadata": {},
   "outputs": [],
   "source": [
    "# Print the indexes of each group (survived)\n",
    "surv_gbo.groups\n",
    "\n",
    "# Returns a dictionary with group labels (0, 1) as keys and the values are arrays of index labels corresponding to each group"
   ]
  },
  {
   "cell_type": "code",
   "execution_count": null,
   "id": "c1e663bd",
   "metadata": {},
   "outputs": [],
   "source": [
    "# Print male passenger records\n",
    "gender_gbo.get_group(\"male\")"
   ]
  },
  {
   "cell_type": "code",
   "execution_count": null,
   "id": "38fbf9ba",
   "metadata": {},
   "outputs": [],
   "source": [
    "# Print records of who survived\n",
    "surv_gbo.get_group(1)"
   ]
  },
  {
   "cell_type": "markdown",
   "id": "51d502b7",
   "metadata": {},
   "source": [
    "## Aggregation methods\n",
    "\n",
    "The aggregation methods provide versatile tools for summarizing and analyzing data within grouped contexts, offering insights into various statistical properties of the grouped data.\n",
    "\n",
    "| Method Name               | Description                                                                                      |\n",
    "|:--------------------------|:-------------------------------------------------------------------------------------------------|\n",
    "| count()                   | Counts the number of non-null values in each group.                                              |\n",
    "| sum()                     | Computes the sum of values in each group.                                                        |\n",
    "| mean()                    | Calculates the mean (average) of values in each group.                                           |\n",
    "| median()                  | Calculates the median (middle value) of values in each group.                                    |\n",
    "| min()                     | Finds the minimum value in each group.                                                           |\n",
    "| max()                     | Finds the maximum value in each group.                                                           |\n",
    "| std()                     | Computes the standard deviation of values in each group.                                         |\n",
    "| var()                     | Computes the variance of values in each group.                                                   |\n",
    "| first()                   | Retrieves the first value in each group.                                                         |\n",
    "| last()                    | Retrieves the last value in each group.                                                          |\n",
    "| agg() or aggregate()      | Allows for applying custom or multiple aggregation functions simultaneously.                     |"
   ]
  },
  {
   "cell_type": "code",
   "execution_count": null,
   "id": "31475105",
   "metadata": {},
   "outputs": [],
   "source": [
    "# Print titanic dataframe\n",
    "tnc.head()"
   ]
  },
  {
   "cell_type": "markdown",
   "id": "4e0d60b6",
   "metadata": {},
   "source": [
    "### Count of all columns of passengers grouped by gender"
   ]
  },
  {
   "cell_type": "code",
   "execution_count": null,
   "id": "5106cd61",
   "metadata": {},
   "outputs": [],
   "source": [
    "gender_gbo.count()"
   ]
  },
  {
   "cell_type": "markdown",
   "id": "4c09992a",
   "metadata": {},
   "source": [
    "### Count of ages of passengers grouped by gender"
   ]
  },
  {
   "cell_type": "code",
   "execution_count": null,
   "id": "d66564f3",
   "metadata": {},
   "outputs": [],
   "source": [
    "gender_gbo[\"age\"].count()"
   ]
  },
  {
   "cell_type": "markdown",
   "id": "94812034",
   "metadata": {},
   "source": [
    "### Sum of all columns of passengers grouped by gender"
   ]
  },
  {
   "cell_type": "code",
   "execution_count": null,
   "id": "094f3206",
   "metadata": {},
   "outputs": [],
   "source": [
    "gender_gbo.sum()"
   ]
  },
  {
   "cell_type": "markdown",
   "id": "53da2d10",
   "metadata": {},
   "source": [
    "### Sum of ages of passengers grouped by gender"
   ]
  },
  {
   "cell_type": "code",
   "execution_count": null,
   "id": "e5b4e8d1",
   "metadata": {},
   "outputs": [],
   "source": [
    "gender_gbo[\"age\"].sum()"
   ]
  },
  {
   "cell_type": "markdown",
   "id": "674e29f2",
   "metadata": {},
   "source": [
    "### Mean of all columns of passengers grouped by gender"
   ]
  },
  {
   "cell_type": "code",
   "execution_count": null,
   "id": "ee1f50f8",
   "metadata": {},
   "outputs": [],
   "source": [
    "gender_gbo.mean()"
   ]
  },
  {
   "cell_type": "markdown",
   "id": "10e7945c",
   "metadata": {},
   "source": [
    "### Mean of ages of passengers grouped by gender"
   ]
  },
  {
   "cell_type": "code",
   "execution_count": null,
   "id": "e5a56f1a",
   "metadata": {},
   "outputs": [],
   "source": [
    "gender_gbo[\"age\"].mean()"
   ]
  },
  {
   "cell_type": "markdown",
   "id": "efb5fdbd",
   "metadata": {},
   "source": [
    "### Median of all columns of passengers grouped by gender"
   ]
  },
  {
   "cell_type": "code",
   "execution_count": null,
   "id": "f4e75bc0",
   "metadata": {},
   "outputs": [],
   "source": [
    "gender_gbo.median()"
   ]
  },
  {
   "cell_type": "markdown",
   "id": "ea6c45c0",
   "metadata": {},
   "source": [
    "### Median of ages of passengers grouped by gender"
   ]
  },
  {
   "cell_type": "code",
   "execution_count": null,
   "id": "4b2554d8",
   "metadata": {},
   "outputs": [],
   "source": [
    "gender_gbo[\"age\"].median()"
   ]
  },
  {
   "cell_type": "markdown",
   "id": "be66d9bd",
   "metadata": {},
   "source": [
    "### Min of all columns of passengers grouped by gender"
   ]
  },
  {
   "cell_type": "code",
   "execution_count": null,
   "id": "e9f38102",
   "metadata": {},
   "outputs": [],
   "source": [
    "gender_gbo.min()"
   ]
  },
  {
   "cell_type": "markdown",
   "id": "94f00501",
   "metadata": {},
   "source": [
    "### Min of ages of passengers grouped by gender"
   ]
  },
  {
   "cell_type": "code",
   "execution_count": null,
   "id": "022a5907",
   "metadata": {},
   "outputs": [],
   "source": [
    "gender_gbo[\"age\"].min()"
   ]
  },
  {
   "cell_type": "markdown",
   "id": "ff5a7646",
   "metadata": {},
   "source": [
    "### Max of all columns of passengers grouped by gender"
   ]
  },
  {
   "cell_type": "code",
   "execution_count": null,
   "id": "d38d1b01",
   "metadata": {},
   "outputs": [],
   "source": [
    "gender_gbo.max()"
   ]
  },
  {
   "cell_type": "markdown",
   "id": "37919538",
   "metadata": {},
   "source": [
    "### Max of ages of passengers grouped by gender"
   ]
  },
  {
   "cell_type": "code",
   "execution_count": null,
   "id": "a343eff6",
   "metadata": {},
   "outputs": [],
   "source": [
    "gender_gbo[\"age\"].max()"
   ]
  },
  {
   "cell_type": "markdown",
   "id": "df29483e",
   "metadata": {},
   "source": [
    "### Standard Deviation of all columns of passengers grouped by gender"
   ]
  },
  {
   "cell_type": "code",
   "execution_count": null,
   "id": "c6eee10c",
   "metadata": {},
   "outputs": [],
   "source": [
    "gender_gbo.std()"
   ]
  },
  {
   "cell_type": "markdown",
   "id": "e2bbf0e6",
   "metadata": {},
   "source": [
    "### Standard Deviation of ages of passengers grouped by gender"
   ]
  },
  {
   "cell_type": "code",
   "execution_count": null,
   "id": "88c98b9e",
   "metadata": {},
   "outputs": [],
   "source": [
    "gender_gbo[\"age\"].std()"
   ]
  },
  {
   "cell_type": "markdown",
   "id": "92cdd5ed",
   "metadata": {},
   "source": [
    "### Variance of all columns of passengers grouped by gender"
   ]
  },
  {
   "cell_type": "code",
   "execution_count": null,
   "id": "e7d0c9bf",
   "metadata": {},
   "outputs": [],
   "source": [
    "gender_gbo.var()"
   ]
  },
  {
   "cell_type": "markdown",
   "id": "62833d2a",
   "metadata": {},
   "source": [
    "### Variance of ages of passengers grouped by gender"
   ]
  },
  {
   "cell_type": "code",
   "execution_count": null,
   "id": "764a10d4",
   "metadata": {},
   "outputs": [],
   "source": [
    "gender_gbo[\"age\"].var()"
   ]
  },
  {
   "cell_type": "markdown",
   "id": "28f3f008",
   "metadata": {},
   "source": [
    "### First records of all columns of passengers grouped by gender"
   ]
  },
  {
   "cell_type": "code",
   "execution_count": null,
   "id": "8c5dadbc",
   "metadata": {},
   "outputs": [],
   "source": [
    "gender_gbo.first()"
   ]
  },
  {
   "cell_type": "markdown",
   "id": "8930bf63",
   "metadata": {},
   "source": [
    "### First record of column \"age\" passengers grouped by gender"
   ]
  },
  {
   "cell_type": "code",
   "execution_count": null,
   "id": "b0c170b6",
   "metadata": {},
   "outputs": [],
   "source": [
    "gender_gbo[\"age\"].first()"
   ]
  },
  {
   "cell_type": "markdown",
   "id": "383ad58a",
   "metadata": {},
   "source": [
    "### Last records of all columns passengers grouped by gender"
   ]
  },
  {
   "cell_type": "code",
   "execution_count": null,
   "id": "afb165b1",
   "metadata": {},
   "outputs": [],
   "source": [
    "gender_gbo.last()"
   ]
  },
  {
   "cell_type": "markdown",
   "id": "ab349511",
   "metadata": {},
   "source": [
    "### Last record of column \"age\" passengers grouped by gender"
   ]
  },
  {
   "cell_type": "code",
   "execution_count": null,
   "id": "cb09d319",
   "metadata": {},
   "outputs": [],
   "source": [
    "gender_gbo[\"age\"].last()"
   ]
  },
  {
   "cell_type": "markdown",
   "id": "44280fac",
   "metadata": {},
   "source": [
    "### Multiple aggregate functions combined using agg() method"
   ]
  },
  {
   "cell_type": "code",
   "execution_count": null,
   "id": "e9e6ce74",
   "metadata": {},
   "outputs": [],
   "source": [
    "gender_gbo[\"age\"].agg([\"min\", \"max\", \"count\", \"mean\", \"median\", \"std\", \"var\", \"first\", \"last\"])"
   ]
  }
 ],
 "metadata": {
  "kernelspec": {
   "display_name": "Python 3 (ipykernel)",
   "language": "python",
   "name": "python3"
  },
  "language_info": {
   "codemirror_mode": {
    "name": "ipython",
    "version": 3
   },
   "file_extension": ".py",
   "mimetype": "text/x-python",
   "name": "python",
   "nbconvert_exporter": "python",
   "pygments_lexer": "ipython3",
   "version": "3.9.12"
  }
 },
 "nbformat": 4,
 "nbformat_minor": 5
}
