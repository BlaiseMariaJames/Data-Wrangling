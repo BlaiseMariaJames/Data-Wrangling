{
 "cells": [
  {
   "cell_type": "markdown",
   "id": "8cb00de8",
   "metadata": {},
   "source": [
    "# Chapter 2 Subsetting and Sorting"
   ]
  },
  {
   "cell_type": "code",
   "execution_count": null,
   "id": "ff3002a9",
   "metadata": {},
   "outputs": [],
   "source": [
    "import pandas as pd\n",
    "\n",
    "# Read titanic dataset\n",
    "tnc = pd.read_csv(\"./datasets/titanic.csv\")\n",
    "\n",
    "# Print dataframe\n",
    "tnc.head()"
   ]
  },
  {
   "cell_type": "code",
   "execution_count": null,
   "id": "46acb1a2",
   "metadata": {},
   "outputs": [],
   "source": [
    "# Info about columns, datatypes, non-null columns, and total size\n",
    "tnc.info()"
   ]
  },
  {
   "cell_type": "code",
   "execution_count": null,
   "id": "874387f8",
   "metadata": {},
   "outputs": [],
   "source": [
    "# Shape of the dataframe\n",
    "tnc.shape"
   ]
  },
  {
   "cell_type": "markdown",
   "id": "ab70d810",
   "metadata": {},
   "source": [
    "## Selecting column\n",
    "\n",
    "We can select one column from a Dataframe using the following two syntax:\n",
    "    \n",
    "1) **Dataframe.column_name**\n",
    "\n",
    "2) **Dataframe[\"column_name\"]** or **Dataframe[\"column_name\"]**"
   ]
  },
  {
   "cell_type": "code",
   "execution_count": null,
   "id": "d9a877c9",
   "metadata": {},
   "outputs": [],
   "source": [
    "# Extracting age column from the data\n",
    "tnc.age"
   ]
  },
  {
   "cell_type": "code",
   "execution_count": null,
   "id": "b167b1a0",
   "metadata": {},
   "outputs": [],
   "source": [
    "# Extracting name column from the dataframe\n",
    "tnc[\"name\"]"
   ]
  },
  {
   "cell_type": "markdown",
   "id": "76d17bb8",
   "metadata": {},
   "source": [
    "### Why second syntax is better than first?\n",
    "\n",
    "First syntax: **Dataframe.column_name**\n",
    "    \n",
    "Second syntax: **Dataframe[\"column_name\"]**\n",
    "    \n",
    "Because there can be many instances where the dot operator syntax may not work.\n",
    "\n",
    "One such example is that we cannot access the column \"home.dest\" using the dot operator."
   ]
  },
  {
   "cell_type": "code",
   "execution_count": null,
   "id": "7a00bc55",
   "metadata": {},
   "outputs": [],
   "source": [
    "# Using first syntax\n",
    "# tnc.home.dest\n",
    "\n",
    "# Python looks for 'dest' attribute in 'home' attribute of 'tnc'. \n",
    "# It first looks for 'home' which is not an attribute and hence results in error"
   ]
  },
  {
   "cell_type": "code",
   "execution_count": null,
   "id": "0b760dc1",
   "metadata": {},
   "outputs": [],
   "source": [
    "# Extracting \"home.dest\" column using the second syntax\n",
    "tnc[\"home.dest\"]"
   ]
  },
  {
   "cell_type": "markdown",
   "id": "c056930d",
   "metadata": {},
   "source": [
    "## Selecting multiple columns\n",
    "\n",
    "We can select multiple columns using the square bracket syntax:\n",
    "\n",
    "**Dataframe[[\"col1_name\", \"col2_name\", ...., \"colN_name\"]]**"
   ]
  },
  {
   "cell_type": "code",
   "execution_count": null,
   "id": "854faa7b",
   "metadata": {},
   "outputs": [],
   "source": [
    "# Describe the statistical information about the columns name, age and home.dest of first 25 members in the titanic dataframe\n",
    "\n",
    "# Extract first 25 members\n",
    "tnc_25 = tnc.head(25)\n",
    "\n",
    "# Select the columns name, age and home.dest using square bracket syntax\n",
    "tnc_cols = tnc_25[[\"name\", \"age\", \"home.dest\"]]\n",
    "\n",
    "# Describe the columns\n",
    "tnc_cols.describe()\n",
    "\n",
    "# This can also be achieved in a single line using Method Chaining\n",
    "# tnc.head(25)[[\"name\", \"age\", \"home.dest\"]].describe()"
   ]
  },
  {
   "cell_type": "markdown",
   "id": "6b046086",
   "metadata": {},
   "source": [
    "## Index (or) Label\n",
    "\n",
    "Index or label are unique labels given to records in a Dataframe. It is given by Pandas by default to uniquely indentify the records.\n",
    "\n",
    "![Index](http://res.cloudinary.com/dtwgxcqkr/image/upload/v1710049645/Data%20Wrangling/indexes.png)"
   ]
  },
  {
   "cell_type": "markdown",
   "id": "1a07e139",
   "metadata": {},
   "source": [
    "To know the current index of the Dataframe we can use the **index property upon the Dataframe**.\n",
    "\n",
    "Ex: df.index"
   ]
  },
  {
   "cell_type": "code",
   "execution_count": null,
   "id": "ae1f1ea9",
   "metadata": {},
   "outputs": [],
   "source": [
    "# Print titanic dataframe\n",
    "tnc"
   ]
  },
  {
   "cell_type": "code",
   "execution_count": null,
   "id": "991804b7",
   "metadata": {},
   "outputs": [],
   "source": [
    "# Print index of titanic\n",
    "tnc.index"
   ]
  },
  {
   "cell_type": "markdown",
   "id": "b2f85ab2",
   "metadata": {},
   "source": [
    "## Set index\n",
    "\n",
    "We can create our own index using the method:\n",
    "    \n",
    "**Dataframe.set_index(col_name)**\n",
    "\n",
    "Ex: df.set_index(\"name\")\n",
    "\n",
    "**Note that when a column is made as an index, it is no longer a column of the dataframe and rather acts as an index to the dataframe**\n",
    "\n",
    "**Also note that this is not an in place operation and hence returns a copy of the resultant Dataframe.**"
   ]
  },
  {
   "cell_type": "code",
   "execution_count": null,
   "id": "b4b42ee7",
   "metadata": {},
   "outputs": [],
   "source": [
    "# Setting an index\n",
    "tnc_new = tnc.set_index(\"name\")"
   ]
  },
  {
   "cell_type": "code",
   "execution_count": null,
   "id": "c59c8cc1",
   "metadata": {},
   "outputs": [],
   "source": [
    "# Print new titanic dataframe\n",
    "tnc_new"
   ]
  },
  {
   "cell_type": "code",
   "execution_count": null,
   "id": "d42b4b4f",
   "metadata": {},
   "outputs": [],
   "source": [
    "# Print index of new titanic\n",
    "tnc_new.index"
   ]
  },
  {
   "cell_type": "markdown",
   "id": "55c2f9a0",
   "metadata": {},
   "source": [
    "## To set an index in place\n",
    "\n",
    "To set an index in place we need to **set the argument 'inplace' of set_index() method to True.**\n",
    "\n",
    "Ex: df.set_index(col, inplace=True)"
   ]
  },
  {
   "cell_type": "code",
   "execution_count": null,
   "id": "c56c17b5",
   "metadata": {},
   "outputs": [],
   "source": [
    "# Read a new dataset 'world happiness report 2021'\n",
    "countries = pd.read_csv(\"./datasets/world-happiness-report-2021.csv\")\n",
    "\n",
    "# Print the dataframe\n",
    "countries.head()"
   ]
  },
  {
   "cell_type": "code",
   "execution_count": null,
   "id": "a6733043",
   "metadata": {},
   "outputs": [],
   "source": [
    "# Select 'Healthy life expectancy' column of dataframe\n",
    "countries[\"Healthy life expectancy\"]\n",
    "\n",
    "# It prints 'Healthy life expectancy', but I cannot know corresponding to which country it is. \n",
    "# Setting an index plays a key role here."
   ]
  },
  {
   "cell_type": "code",
   "execution_count": null,
   "id": "986b0ea1",
   "metadata": {},
   "outputs": [],
   "source": [
    "# Set Country name column as index in place\n",
    "countries.set_index(\"Country name\", inplace=True)\n",
    "\n",
    "# Print the dataframe\n",
    "countries"
   ]
  },
  {
   "cell_type": "code",
   "execution_count": null,
   "id": "02c0e9fe",
   "metadata": {},
   "outputs": [],
   "source": [
    "# Select 'Healthy life expectancy' column of dataframe\n",
    "countries[\"Healthy life expectancy\"]"
   ]
  },
  {
   "cell_type": "code",
   "execution_count": null,
   "id": "cb775eb3",
   "metadata": {},
   "outputs": [],
   "source": [
    "# Plot the 'Healthy life expectancy' of first seven countries\n",
    "countries.head(7)[\"Healthy life expectancy\"].plot()"
   ]
  },
  {
   "cell_type": "markdown",
   "id": "1d4e8e68",
   "metadata": {},
   "source": [
    "## Sorting\n",
    "\n",
    "Sort the dataframe records in the ascending or descending order of the specified column. To sort the records in ascending order we use the method:\n",
    "\n",
    "**Dataframe.sort_values(col_name)**\n",
    "\n",
    "Ex: df.sort_values(\"name\")\n",
    "\n",
    "To sort the records in descending order we need to set the argument 'ascending' of sort_values() method to False.\n",
    "\n",
    "Ex: df.sort_values(\"name\", ascending=False)\n",
    "\n",
    "**Note that this is not an in place operation and hence returns a copy of the resultant Dataframe.**\n",
    "\n",
    "To sort the records in ascending/descending order in place we need to set the argument 'inplace' of set_index() method to True.\n",
    "\n",
    "Ex: df.sort_values(\"name\", ascending=False, inplace=True)"
   ]
  },
  {
   "cell_type": "code",
   "execution_count": null,
   "id": "0a68da53",
   "metadata": {},
   "outputs": [],
   "source": [
    "# Sort the countries dataframe in ascending order of Social support\n",
    "countries.sort_values(\"Social support\")"
   ]
  },
  {
   "cell_type": "code",
   "execution_count": null,
   "id": "cfafbefa",
   "metadata": {},
   "outputs": [],
   "source": [
    "# Sort the countries dataframe in descending order of Freedom to make life choices\n",
    "countries.sort_values(\"Freedom to make life choices\", ascending=False)"
   ]
  },
  {
   "cell_type": "code",
   "execution_count": null,
   "id": "4d5d8fbe",
   "metadata": {},
   "outputs": [],
   "source": [
    "# Sort the countries dataframe in descending order of Generosity in place\n",
    "countries.sort_values(\"Generosity\", ascending=False, inplace=True)\n",
    "\n",
    "# Print the dataframe\n",
    "countries"
   ]
  },
  {
   "cell_type": "markdown",
   "id": "28d66d4f",
   "metadata": {},
   "source": [
    "## Sorting by index\n",
    "\n",
    "Since index is not a column of a dataframe we cannot directly use sort_values() method on the index. Instead we use the method:\n",
    "    \n",
    "**Dataframe.sort_index()**\n",
    "\n",
    "Ex: df.sort_index()\n",
    "    \n",
    "**Note: As usual by default the values of the arguments 'inplace' and 'ascending' are False**"
   ]
  },
  {
   "cell_type": "code",
   "execution_count": null,
   "id": "6851e1ad",
   "metadata": {},
   "outputs": [],
   "source": [
    "# Sort the countries by its index\n",
    "countries.sort_index()"
   ]
  },
  {
   "cell_type": "markdown",
   "id": "0d8aa47a",
   "metadata": {},
   "source": [
    "## Sorting by multiple columns\n",
    "\n",
    "We can sort the dataframe by multiple columns using the same syntax. Instead of passing one column, we pass a list of columns.\n",
    "\n",
    "**Syntax: Dataframe.sort_values([col1_name, col2_name, ..., colN_name])**\n",
    "\n",
    "Ex: df.sort_values([\"name\", \"age\"])"
   ]
  },
  {
   "cell_type": "code",
   "execution_count": null,
   "id": "116d12cb",
   "metadata": {},
   "outputs": [],
   "source": [
    "# Read houses dataset\n",
    "houses = pd.read_csv(\"./datasets/kc_house_data.csv\")\n",
    "\n",
    "# Print the dataframe\n",
    "houses.head()"
   ]
  },
  {
   "cell_type": "code",
   "execution_count": null,
   "id": "4d23e95b",
   "metadata": {},
   "outputs": [],
   "source": [
    "# Set in place id as index of dataframe\n",
    "houses.set_index(\"id\", inplace=True)\n",
    "\n",
    "# Print the dataframe\n",
    "houses"
   ]
  },
  {
   "cell_type": "code",
   "execution_count": null,
   "id": "e0793170",
   "metadata": {},
   "outputs": [],
   "source": [
    "# Sort the dataframe in descending order of price\n",
    "houses.sort_values(\"price\", ascending=False)"
   ]
  },
  {
   "cell_type": "code",
   "execution_count": null,
   "id": "e27e5f6c",
   "metadata": {},
   "outputs": [],
   "source": [
    "# Sort the dataframe in descending order of bedrooms\n",
    "houses.sort_values(\"bedrooms\", ascending=False)"
   ]
  },
  {
   "cell_type": "code",
   "execution_count": null,
   "id": "3d0fcc62",
   "metadata": {},
   "outputs": [],
   "source": [
    "# Sort the dataframe in descending order of bedrooms and if there is a tie sort them in the descending order of their price\n",
    "houses.sort_values([\"bedrooms\", \"price\"], ascending=False)"
   ]
  },
  {
   "cell_type": "markdown",
   "id": "fc2e06b4",
   "metadata": {},
   "source": [
    "## Selecting rows\n",
    "\n",
    "We can select rows from a Dataframe based on their label/index using the following methods:\n",
    "\n",
    "1) **Dataframe.loc[\"label\"]**: Access a group of records based on their label. \n",
    "\n",
    "Ex: df.loc[\"group1\"], returns all the records with label \"group1\".\n",
    "\n",
    "2) **Dataframe.iloc[position]**: Access a group of records based on their position \n",
    "\n",
    "Ex: df.iloc[0], returns first row (index 0).\n",
    "\n",
    "**Note: loc looks for values whereas iloc looks for position**\n",
    "\n",
    "We can also make use of Python slicing to extract records within a range\n",
    "\n",
    "3) **Dataframe.loc[start:end] (or) Dataframe.iloc[start:end]**\n",
    "\n",
    "Ex: df.loc[\"group1\":\"group3\"], returns all the records of dataframe starting with label \"group1\" upto label \"group3\".\n",
    "\n",
    "Ex: df.loc[0:9], returns all the records of dataframe whose position are within the range 0 to 9."
   ]
  },
  {
   "cell_type": "code",
   "execution_count": null,
   "id": "ff54747c",
   "metadata": {},
   "outputs": [],
   "source": [
    "# Extract details about country 'India'\n",
    "countries.loc[\"India\"]"
   ]
  },
  {
   "cell_type": "code",
   "execution_count": null,
   "id": "95431401",
   "metadata": {},
   "outputs": [],
   "source": [
    "# Extract details about country 'India' horizontally\n",
    "countries.loc[[\"India\"]]"
   ]
  },
  {
   "cell_type": "code",
   "execution_count": null,
   "id": "2ac6dcba",
   "metadata": {},
   "outputs": [],
   "source": [
    "# Extract details about any 5 Asian countries\n",
    "countries.loc[[\"India\", \"Pakistan\", \"Bangladesh\", \"Sri Lanka\", \"Nepal\"]]"
   ]
  },
  {
   "cell_type": "code",
   "execution_count": null,
   "id": "01084e07",
   "metadata": {},
   "outputs": [],
   "source": [
    "# Extract details within a range\n",
    "tnc.loc[0:5]"
   ]
  },
  {
   "cell_type": "code",
   "execution_count": null,
   "id": "a29f48df",
   "metadata": {},
   "outputs": [],
   "source": [
    "# Extract details of countries from 'America' to 'India' when sorted alphabetically\n",
    "countries.sort_index().loc[\"America\":\"India\"]"
   ]
  },
  {
   "cell_type": "code",
   "execution_count": null,
   "id": "e0a2e71e",
   "metadata": {},
   "outputs": [],
   "source": [
    "# Extract details about the 20th country from the last when sorted alphabetically\n",
    "countries.sort_index(ascending=False).iloc[20]"
   ]
  },
  {
   "cell_type": "code",
   "execution_count": null,
   "id": "0d0732cc",
   "metadata": {},
   "outputs": [],
   "source": [
    "# Extract details about the 20th country from the last when sorted alphabetically, horizontally\n",
    "countries.sort_index(ascending=False).iloc[[20]]"
   ]
  },
  {
   "cell_type": "code",
   "execution_count": null,
   "id": "1af0803a",
   "metadata": {},
   "outputs": [],
   "source": [
    "# Extract details about the countries that ranked between 30-40 when sorted by 'Logged GDP per capita'\n",
    "countries.sort_values(\"Logged GDP per capita\").iloc[29:39]"
   ]
  }
 ],
 "metadata": {
  "kernelspec": {
   "display_name": "Python 3 (ipykernel)",
   "language": "python",
   "name": "python3"
  },
  "language_info": {
   "codemirror_mode": {
    "name": "ipython",
    "version": 3
   },
   "file_extension": ".py",
   "mimetype": "text/x-python",
   "name": "python",
   "nbconvert_exporter": "python",
   "pygments_lexer": "ipython3",
   "version": "3.9.12"
  }
 },
 "nbformat": 4,
 "nbformat_minor": 5
}
