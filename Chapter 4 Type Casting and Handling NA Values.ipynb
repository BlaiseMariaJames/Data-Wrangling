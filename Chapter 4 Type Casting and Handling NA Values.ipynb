{
 "cells": [
  {
   "cell_type": "markdown",
   "id": "760f4838",
   "metadata": {},
   "source": [
    "# Chapter 4 Type Casting and Handling NA Values"
   ]
  },
  {
   "cell_type": "code",
   "execution_count": null,
   "id": "13661453",
   "metadata": {},
   "outputs": [],
   "source": [
    "import pandas as pd\n",
    "\n",
    "# Read titanic dataset\n",
    "tnc = pd.read_csv(\"./datasets/titanic.csv\")\n",
    "\n",
    "# Print dataframe\n",
    "tnc.head()"
   ]
  },
  {
   "cell_type": "markdown",
   "id": "8d1ad454",
   "metadata": {},
   "source": [
    "## Datatype of a column in a Dataframe\n",
    "\n",
    "When converting a dataset into a Dataframe, Pandas assumes the datatypes of columns based on the values present in each column.\n",
    "\n",
    "To determine the datatypes assigned, you can utilize the following methods:\n",
    "\n",
    "1) **Dataframe.column.dtype**: This method allows you to ascertain the datatype of a specific column.\n",
    "\n",
    "2) **Dataframe.dtypes**: This method provides the datatypes assigned to all columns in a Dataframe.\n",
    "\n",
    "3) **Dataframe.info()**: This method gives info about the count of non-null values, the datatypes assigned, and the total memory occupied by the Dataframe."
   ]
  },
  {
   "cell_type": "code",
   "execution_count": null,
   "id": "17212f56",
   "metadata": {},
   "outputs": [],
   "source": [
    "# Print the datatype of age\n",
    "tnc.age.dtype\n",
    "\n",
    "# dtype('O') refers to Python Object 'str'"
   ]
  },
  {
   "cell_type": "code",
   "execution_count": null,
   "id": "1bf78417",
   "metadata": {},
   "outputs": [],
   "source": [
    "# Extract datatypes of titanic dataframe\n",
    "tnc.dtypes"
   ]
  },
  {
   "cell_type": "code",
   "execution_count": null,
   "id": "1d952880",
   "metadata": {},
   "outputs": [],
   "source": [
    "# Extract info about non-null values, datatypes assigned and total memory occupied by the dataframe\n",
    "tnc.info()"
   ]
  },
  {
   "cell_type": "markdown",
   "id": "8b6fc2fa",
   "metadata": {},
   "source": [
    "## Converting datatypes (or) Type casting\n",
    "\n",
    "We can convert the datatype of a column assigned by pandas to a different datatype of our choice by making use of the method:\n",
    "\n",
    "**Dataframe.column.astype(datatype)**\n",
    "\n",
    "Ex: df[\"age\"].astype(\"float\")"
   ]
  },
  {
   "cell_type": "code",
   "execution_count": null,
   "id": "be0165da",
   "metadata": {},
   "outputs": [],
   "source": [
    "# Current datatype of age\n",
    "tnc.age.dtype\n",
    "\n",
    "# dtype('O') refers to Python Object 'str'"
   ]
  },
  {
   "cell_type": "code",
   "execution_count": null,
   "id": "3bd9933b",
   "metadata": {},
   "outputs": [],
   "source": [
    "# Convert datatype of age column from object to float in dataframe\n",
    "# tnc.age.astype(\"float\")\n",
    "\n",
    "# The above method fails as python cannot convert the str value '?' into a float"
   ]
  },
  {
   "cell_type": "code",
   "execution_count": null,
   "id": "22fe33db",
   "metadata": {},
   "outputs": [],
   "source": [
    "# Replace the value of '?' in age to None using Dataframe.replace() method, in place\n",
    "tnc.age.replace(['?'], [None], inplace=True)"
   ]
  },
  {
   "cell_type": "code",
   "execution_count": null,
   "id": "378380d9",
   "metadata": {},
   "outputs": [],
   "source": [
    "# Convert datatype of age column from object to float in dataframe\n",
    "tnc.age.astype(\"float\")\n",
    "\n",
    "# None values are converted to NaN\n",
    "# Note that it returns converted values of age but doesn't update the age column"
   ]
  },
  {
   "cell_type": "code",
   "execution_count": null,
   "id": "4f804fc0",
   "metadata": {},
   "outputs": [],
   "source": [
    "# Current datatype of age\n",
    "tnc.age.dtype\n",
    "\n",
    "# The datatype of age is still Object"
   ]
  },
  {
   "cell_type": "code",
   "execution_count": null,
   "id": "98074407",
   "metadata": {},
   "outputs": [],
   "source": [
    "# Set datatype of age as float using type casting\n",
    "tnc.age = tnc.age.astype(\"float\")\n",
    "\n",
    "# Current datatype of age\n",
    "tnc.age.dtype\n",
    "\n",
    "# Now the datatype of age is converted to float64."
   ]
  },
  {
   "cell_type": "code",
   "execution_count": null,
   "id": "14d46bf1",
   "metadata": {},
   "outputs": [],
   "source": [
    "# Due to type conversion we can perform EDA\n",
    "tnc.describe()"
   ]
  },
  {
   "cell_type": "markdown",
   "id": "d5ee21c1",
   "metadata": {},
   "source": [
    "## Handling missing values\n",
    "\n",
    "We can handle the missing values in a Dataframe using the following methods:\n",
    "\n",
    "1) **Dataframe.column.isna()**: Returns a boolean Series indicating True for NaN (missing) values and False otherwise. This can be used for filtering out records with missing values in the specified column.\n",
    "\n",
    "2) **Dataframe.isna()**: Returns a Dataframe indicating True for NaN (missing) values and False otherwise.\n",
    "\n",
    "3) **Dataframe.column.notna()**: Returns a boolean Series indicating True for non-NaN values and False for NaN values. This can be used for filtering out records that **do not** have missing values in the specified column.\n",
    "\n",
    "4) **Dataframe.notna()**: Returns a Dataframe indicating True for non-NaN values and False for NaN values.\n",
    "\n",
    "5) **Dataframe.column.dropna()**: Drops all the records (rows) that contain NaN values in the specified column.\n",
    "\n",
    "6) **Dataframe.column.fillna()**: Fills all the NaN values in the specified column with the values passed to the method.\n",
    "\n",
    "**Note that all the methods have inplace set to False.**\n",
    "\n",
    "These methods provide flexibility in how missing values are handled in a Dataframe, allowing users to either filter out, drop, or replace missing values based on their requirements."
   ]
  },
  {
   "cell_type": "code",
   "execution_count": null,
   "id": "1521c443",
   "metadata": {},
   "outputs": [],
   "source": [
    "# Read games dataset\n",
    "stats = pd.read_csv(\"./datasets/game_stats.csv\")\n",
    "\n",
    "# Print dataframe\n",
    "stats"
   ]
  },
  {
   "cell_type": "markdown",
   "id": "5ca1ee73",
   "metadata": {},
   "source": [
    "## Filtering missing values"
   ]
  },
  {
   "cell_type": "code",
   "execution_count": null,
   "id": "6d2523ec",
   "metadata": {},
   "outputs": [],
   "source": [
    "# Generate a dataframe indicating the presence of NaN values in stats dataframe\n",
    "stats.isna()"
   ]
  },
  {
   "cell_type": "code",
   "execution_count": null,
   "id": "563975a3",
   "metadata": {},
   "outputs": [],
   "source": [
    "# Generate a dataframe indicating the presence of non-NaN values in stats dataframe\n",
    "stats.notna()"
   ]
  },
  {
   "cell_type": "code",
   "execution_count": null,
   "id": "a9d91557",
   "metadata": {},
   "outputs": [],
   "source": [
    "# Filter out records that have NaN values in league column of stats dataframe\n",
    "nameNaN = stats.league.isna()\n",
    "\n",
    "stats[nameNaN]"
   ]
  },
  {
   "cell_type": "code",
   "execution_count": null,
   "id": "2f0c65fa",
   "metadata": {},
   "outputs": [],
   "source": [
    "# Filter out records that do not have NaN values in assists column of stats dataframe\n",
    "nameNaN = stats.assists.notna()\n",
    "\n",
    "stats[nameNaN]"
   ]
  },
  {
   "cell_type": "markdown",
   "id": "814e3fed",
   "metadata": {},
   "source": [
    "## Dropping missing values"
   ]
  },
  {
   "cell_type": "code",
   "execution_count": null,
   "id": "ba0332c7",
   "metadata": {},
   "outputs": [],
   "source": [
    "# Drop the records that have rebounds as NaN values\n",
    "stats.rebounds.dropna()\n",
    "\n",
    "# Returns series of rebounds values that are not NaN"
   ]
  },
  {
   "cell_type": "code",
   "execution_count": null,
   "id": "2223050a",
   "metadata": {},
   "outputs": [],
   "source": [
    "# Drop the records that have atleast one NaN value\n",
    "stats.dropna()\n",
    "\n",
    "# Returns a dataframe that contain records having all columns filled or no NaN"
   ]
  },
  {
   "cell_type": "code",
   "execution_count": null,
   "id": "4e00f5fc",
   "metadata": {},
   "outputs": [],
   "source": [
    "# Drop the records that have all values as NaN\n",
    "stats.dropna(how = \"all\")\n",
    "\n",
    "# Returns a dataframe that contain records having atleast one column filled"
   ]
  },
  {
   "cell_type": "markdown",
   "id": "2cea23c8",
   "metadata": {},
   "source": [
    "## Drop the records that have certain columns as NaN\n",
    "\n",
    "To drop records that have certain columns filled with NaN we can make use of the **subset argument in dropna() method.**\n",
    "\n",
    "Ex: df.dropna(subset=[\"age\", \"country\"]), drops all the records that have age or country as NaN."
   ]
  },
  {
   "cell_type": "code",
   "execution_count": null,
   "id": "3cf19330",
   "metadata": {},
   "outputs": [],
   "source": [
    "# Drop the records that have league or points as NaN\n",
    "stats.dropna(subset=[\"league\", \"points\"])\n",
    "\n",
    "# Returns a dataframe that contain records whose league and points are filled"
   ]
  },
  {
   "cell_type": "markdown",
   "id": "20c878a4",
   "metadata": {},
   "source": [
    "## Filling missing values"
   ]
  },
  {
   "cell_type": "code",
   "execution_count": null,
   "id": "bdab15f3",
   "metadata": {},
   "outputs": [],
   "source": [
    "# Fill all the missing values in the dataframe with 0\n",
    "stats.fillna(0)\n",
    "\n",
    "# Returns a dataframe with all the missing values replaced with 0"
   ]
  },
  {
   "cell_type": "code",
   "execution_count": null,
   "id": "fe6e600e",
   "metadata": {},
   "outputs": [],
   "source": [
    "# Fill all the missing values in league column with \"isl\"\n",
    "stats.league.fillna(\"isl\")\n",
    "\n",
    "# Returns a series of league values with NaN values replaced with \"isl\""
   ]
  },
  {
   "cell_type": "markdown",
   "id": "6559fb65",
   "metadata": {},
   "source": [
    "## Filling certain missing values\n",
    "\n",
    "To fill certain missing values in a Dataframe we need to pass a dictionary of columns to be filled along with their values."
   ]
  },
  {
   "cell_type": "code",
   "execution_count": null,
   "id": "067ac902",
   "metadata": {},
   "outputs": [],
   "source": [
    "# Fill the missing values of name with \"Unknown\" and assists with 0\n",
    "stats.fillna({\"name\":\"Unknown\", \"assists\": 0})\n",
    "\n",
    "# Returns a dataframe with missing names filled with \"Unknown\" and missing assists with 0"
   ]
  },
  {
   "cell_type": "markdown",
   "id": "1f6e7368",
   "metadata": {},
   "source": [
    "## Filling missing values with same record-different column values\n",
    "\n",
    "To fill missing values of a Dataframe with values of some other column in the same record we can pass the column as argument to fillna() method."
   ]
  },
  {
   "cell_type": "code",
   "execution_count": null,
   "id": "f650bce3",
   "metadata": {},
   "outputs": [],
   "source": [
    "# Read sales dataset\n",
    "sales = pd.read_csv(\"./datasets/sales.csv\")\n",
    "\n",
    "# Print dataframe\n",
    "sales"
   ]
  },
  {
   "cell_type": "code",
   "execution_count": null,
   "id": "3b560c6a",
   "metadata": {},
   "outputs": [],
   "source": [
    "# Replace any missing shipping_zip value with corresponding billing_zip value, in place\n",
    "sales[\"shipping_zip\"].fillna(sales[\"billing_zip\"], inplace=True)\n",
    "\n",
    "# Print dataframe\n",
    "sales\n",
    "\n",
    "# Records that had NaN as shipping_zip values are replaced with corresponding billing_zip values"
   ]
  }
 ],
 "metadata": {
  "kernelspec": {
   "display_name": "Python 3 (ipykernel)",
   "language": "python",
   "name": "python3"
  },
  "language_info": {
   "codemirror_mode": {
    "name": "ipython",
    "version": 3
   },
   "file_extension": ".py",
   "mimetype": "text/x-python",
   "name": "python",
   "nbconvert_exporter": "python",
   "pygments_lexer": "ipython3",
   "version": "3.9.12"
  }
 },
 "nbformat": 4,
 "nbformat_minor": 5
}
